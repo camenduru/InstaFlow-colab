{
  "cells": [
    {
      "cell_type": "markdown",
      "metadata": {
        "id": "view-in-github"
      },
      "source": [
        "[![Open In Colab](https://colab.research.google.com/assets/colab-badge.svg)](https://colab.research.google.com/github/camenduru/InstaFlow-colab/blob/main/InstaFlow_colab.ipynb)"
      ]
    },
    {
      "cell_type": "code",
      "execution_count": null,
      "metadata": {
        "id": "VjYy0F2gZIPR"
      },
      "outputs": [],
      "source": [
        "%cd /content\n",
        "!pip install -q diffusers transformers accelerate gradio controlnet_aux\n",
        "!git clone -b dev https://github.com/camenduru/InstaFlow\n",
        "%cd /content/InstaFlow/code"
      ]
    },
    {
      "cell_type": "code",
      "execution_count": null,
      "metadata": {},
      "outputs": [],
      "source": [
        "from pipeline_rf import RectifiedFlowPipeline\n",
        "import torch\n",
        "\n",
        "pipe = RectifiedFlowPipeline.from_pretrained(\"XCLIU/2_rectified_flow_from_sd_1_5\", torch_dtype=torch.float16).to(\"cuda\")"
      ]
    },
    {
      "cell_type": "code",
      "execution_count": null,
      "metadata": {},
      "outputs": [],
      "source": [
        "image = pipe(prompt=\"A hyper-realistic photo of a cute cat.\", negative_prompt=\"painting, unreal, twisted\", num_inference_steps=25, guidance_scale=1.5).images[0]\n",
        "image"
      ]
    },
    {
      "cell_type": "code",
      "execution_count": null,
      "metadata": {},
      "outputs": [],
      "source": [
        "from pipeline_rf import RectifiedFlowPipeline\n",
        "import torch\n",
        "\n",
        "pipe = RectifiedFlowPipeline.from_pretrained(\"XCLiu/instaflow_0_9B_from_sd_1_5\", torch_dtype=torch.float16).to(\"cuda\")"
      ]
    },
    {
      "cell_type": "code",
      "execution_count": null,
      "metadata": {},
      "outputs": [],
      "source": [
        "images = pipe(prompt=\"A hyper-realistic photo of a cute cat.\", num_inference_steps=1, guidance_scale=0.0).images[0]\n",
        "image"
      ]
    }
  ],
  "metadata": {
    "accelerator": "GPU",
    "colab": {
      "gpuType": "T4",
      "provenance": []
    },
    "kernelspec": {
      "display_name": "Python 3",
      "name": "python3"
    },
    "language_info": {
      "name": "python"
    }
  },
  "nbformat": 4,
  "nbformat_minor": 0
}
